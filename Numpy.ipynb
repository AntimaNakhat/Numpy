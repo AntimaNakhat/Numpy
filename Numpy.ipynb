{
 "cells": [
  {
   "cell_type": "markdown",
   "id": "1b1bc5a3-53d9-4fd4-861a-3f057d6ce78f",
   "metadata": {},
   "source": [
    "#                                  Numpy Assignment"
   ]
  },
  {
   "cell_type": "markdown",
   "id": "59fb5389-7f15-4f48-836c-f34e4c6d61f3",
   "metadata": {},
   "source": [
    "## Theoretical Questions"
   ]
  },
  {
   "cell_type": "markdown",
   "id": "bb0ba0c7-22a0-41b3-80a2-c500007dc918",
   "metadata": {},
   "source": [
    "### 1. Explain the purpose and advantages of NumPy in scientific computing and data analysis. How does it enhance Python's capabilities for numerical operations?"
   ]
  },
  {
   "cell_type": "markdown",
   "id": "02ea58dd-2ae8-448c-bdee-e5676dca0a48",
   "metadata": {},
   "source": [
    "Purpose of NumPy:\n",
    "\n",
    "1) Array Handling: It introduces the 'ndarray', which is a central feature for numerica; operation in python.\n",
    "\n",
    "2) Mathematical Operations: It provides a wide range of mathematical functions and operations that can be performed on these arrays, such as element-wise operations, linear algebra functions, random number generation, and more.\n",
    "\n",
    "3) Interoperability: NumPy arrays are used as the foundational data structure in many other data science libraries, such as pandas, SciPy, and scikit-learn, which makes it an essential tool for data analysis and machine learning.\n",
    "    "
   ]
  },
  {
   "cell_type": "markdown",
   "id": "e60e7d7f-35f0-4c89-aadb-187bd58eeba1",
   "metadata": {},
   "source": [
    "Advantages of NumPy:\n",
    "    \n",
    "1) Performance: NumPy arrays are more memory-efficient and faster than Python lists due to their compact storage and optimized implementation in C.\n",
    "\n",
    "2) Vectorization: NumPy allows for vectorized operations, meaning operations that can be applied to entire arrays without the need for explicit loops. Example: Adding two arrays element-wise\n",
    "\n",
    "3) Broadcasting: means you can perform operations on arrays even when they are not of the same size, and NumPy will automatically adjust the smaller array to match the larger one.\n",
    "Example: Adding a scalar to an array, or adding a smaller array to a larger one.\n",
    "\n",
    "4) Large-scale Data Handling: It allows for efficient storage and manipulation of data in memory, making it a key tool in big data analysis."
   ]
  },
  {
   "cell_type": "markdown",
   "id": "dc9f32ef-11d6-4150-9046-9631a6bc7996",
   "metadata": {},
   "source": [
    "How NumPy Enhances Python's Capabilities:\n",
    "\n",
    "1) Efficient Memory Usage:\n",
    "2) Faster Computations\n",
    "3) Advanced Mathematical Functions(like Fourier transforms, random number generation, and more) \n",
    "4) Data Manipulation and Transformation(like reshaping, slicing, and indexing on arrays)"
   ]
  },
  {
   "cell_type": "markdown",
   "id": "2ed01bf0-4d40-4d0b-82da-709ec81531fa",
   "metadata": {},
   "source": [
    "### 2. Compare and contrast np.mean() and np.average() functions in NumPy. When would you use one over the other?"
   ]
  },
  {
   "cell_type": "markdown",
   "id": "0aca4851-4536-4652-8f5a-bb61c9cb5cf6",
   "metadata": {},
   "source": [
    "np.mean():\n",
    "\n",
    "1) Computes the arithmetic mean of array elements.\n",
    "2) Does not support weights; calculates simple mean.\n",
    "3) Syntax: np.mean(array, axis=None)\n",
    "4) Default Behavior: Averages all elements of the array if axis=None.\n",
    "5) Use when you need the standard arithmetic mean.\n",
    "6) Handling NaN: Requires np.nanmean() to ignore NaNs.\n",
    "7) Example with Weights : Not applicable."
   ]
  },
  {
   "cell_type": "markdown",
   "id": "cf82aef4-634f-4da5-9fc0-9b15707e3918",
   "metadata": {},
   "source": [
    "np.average()\n",
    "\n",
    "1) Computes the weighted average of array elements.\n",
    "2) Supports weights, allowing for weighted mean calculations.\n",
    "3) Syntax : np.average(array, axis=None, weights=None)\n",
    "4) Default Behavior : Averages all elements, or computes weighted average if weights are provided.\n",
    "5) Use when different elements should contribute differently to the average.\n",
    "6) Handling NaN : Requires manual handling of NaNs, no direct equivalent.\n",
    "7) Example with Weights:  np.average([1, 2, 3], weights=[0.1, 0.3, 0.6]) results in 2.5."
   ]
  },
  {
   "cell_type": "markdown",
   "id": "f1660dda-6dea-4e1b-9fcb-a0ff925b7d63",
   "metadata": {},
   "source": [
    "When to Use:\n",
    "\n",
    "np.mean(): When you need to calculate the simple arithmetic mean of an array without considering any weights.\n",
    "\n",
    "np.average(): When you need to calculate the average with specific weights for each element, making it useful in cases where some values should have more influence on the result."
   ]
  },
  {
   "cell_type": "markdown",
   "id": "24bed9fc-7dfa-4d6d-a0b8-740fa616967d",
   "metadata": {},
   "source": [
    "### 3. Describe the methods for reversing a NumPy array along different axes. Provide examples for 1D and 2D arrays"
   ]
  },
  {
   "cell_type": "code",
   "execution_count": 2,
   "id": "c6f33429-9b48-424f-a96e-827786e15e31",
   "metadata": {},
   "outputs": [],
   "source": [
    "import numpy as np"
   ]
  },
  {
   "cell_type": "markdown",
   "id": "87c9fffb-2f6a-4a30-94fb-4acb36d6c16e",
   "metadata": {},
   "source": [
    "#### 1D Array "
   ]
  },
  {
   "cell_type": "code",
   "execution_count": 3,
   "id": "e39977c0-eefd-409a-b032-fc264e2b1fc3",
   "metadata": {},
   "outputs": [],
   "source": [
    "arr = np.array([1,2,3,4])"
   ]
  },
  {
   "cell_type": "code",
   "execution_count": 6,
   "id": "4f3ae747-875e-4034-a86a-6d08862df860",
   "metadata": {},
   "outputs": [
    {
     "data": {
      "text/plain": [
       "array([4, 3, 2, 1])"
      ]
     },
     "execution_count": 6,
     "metadata": {},
     "output_type": "execute_result"
    }
   ],
   "source": [
    "# using slicing\n",
    "arr[::-1]"
   ]
  },
  {
   "cell_type": "code",
   "execution_count": 7,
   "id": "ebc735e3-aef6-4599-8db7-77a72d11ecec",
   "metadata": {},
   "outputs": [
    {
     "data": {
      "text/plain": [
       "array([4, 3, 2, 1])"
      ]
     },
     "execution_count": 7,
     "metadata": {},
     "output_type": "execute_result"
    }
   ],
   "source": [
    "# using np.flip()\n",
    "np.flip(arr)"
   ]
  },
  {
   "cell_type": "markdown",
   "id": "8b9ea2c4-7b3e-4f7c-9c77-889d48f0e07d",
   "metadata": {},
   "source": [
    "#### 2D Array"
   ]
  },
  {
   "cell_type": "code",
   "execution_count": 9,
   "id": "f6d50690-4dbe-40df-83aa-157bd2254505",
   "metadata": {},
   "outputs": [],
   "source": [
    "a2d = np.array([[9,6,3],[8,5,2],[7,4,1]])"
   ]
  },
  {
   "cell_type": "markdown",
   "id": "14659621-3680-4c09-a294-8700836ef59a",
   "metadata": {},
   "source": [
    "##### Reversing Along Rows (Axis 1):"
   ]
  },
  {
   "cell_type": "code",
   "execution_count": 10,
   "id": "24efe440-532f-4308-bcd9-e5d759fffcc1",
   "metadata": {},
   "outputs": [
    {
     "data": {
      "text/plain": [
       "array([[3, 6, 9],\n",
       "       [2, 5, 8],\n",
       "       [1, 4, 7]])"
      ]
     },
     "execution_count": 10,
     "metadata": {},
     "output_type": "execute_result"
    }
   ],
   "source": [
    "# using slicing: \n",
    "\n",
    "a2d[:, ::-1]"
   ]
  },
  {
   "cell_type": "code",
   "execution_count": 12,
   "id": "db3a11f5-ab63-4030-9096-5a027a448e1c",
   "metadata": {},
   "outputs": [
    {
     "data": {
      "text/plain": [
       "array([[3, 6, 9],\n",
       "       [2, 5, 8],\n",
       "       [1, 4, 7]])"
      ]
     },
     "execution_count": 12,
     "metadata": {},
     "output_type": "execute_result"
    }
   ],
   "source": [
    "# using np.array()\n",
    "\n",
    "np.flip(a2d,axis = 1)"
   ]
  },
  {
   "cell_type": "markdown",
   "id": "bd5b526e-a428-4626-87e2-604656551e86",
   "metadata": {},
   "source": [
    "##### Reversing Along Columns (Axis 0):"
   ]
  },
  {
   "cell_type": "code",
   "execution_count": 14,
   "id": "3d05cc6a-a746-4197-aed4-9f9bd39d738e",
   "metadata": {},
   "outputs": [
    {
     "data": {
      "text/plain": [
       "array([[7, 4, 1],\n",
       "       [8, 5, 2],\n",
       "       [9, 6, 3]])"
      ]
     },
     "execution_count": 14,
     "metadata": {},
     "output_type": "execute_result"
    }
   ],
   "source": [
    "# using slicing\n",
    "a2d[::-1, :]"
   ]
  },
  {
   "cell_type": "code",
   "execution_count": 17,
   "id": "c53df805-76bc-4d35-9105-7cd36715dc4c",
   "metadata": {},
   "outputs": [
    {
     "data": {
      "text/plain": [
       "array([[7, 4, 1],\n",
       "       [8, 5, 2],\n",
       "       [9, 6, 3]])"
      ]
     },
     "execution_count": 17,
     "metadata": {},
     "output_type": "execute_result"
    }
   ],
   "source": [
    "# using np.flip()\n",
    "\n",
    "np.flip(a2d, axis = 0)"
   ]
  },
  {
   "cell_type": "markdown",
   "id": "69870b03-daec-4cdf-9983-f31e87801f5c",
   "metadata": {},
   "source": [
    "##### Reversing Along Both Axes:"
   ]
  },
  {
   "cell_type": "code",
   "execution_count": 18,
   "id": "f02610a9-de61-44e2-9d46-11c0c80c79dc",
   "metadata": {},
   "outputs": [
    {
     "data": {
      "text/plain": [
       "array([[1, 4, 7],\n",
       "       [2, 5, 8],\n",
       "       [3, 6, 9]])"
      ]
     },
     "execution_count": 18,
     "metadata": {},
     "output_type": "execute_result"
    }
   ],
   "source": [
    "# using np.flip()\n",
    "np.flip(a2d)"
   ]
  },
  {
   "cell_type": "code",
   "execution_count": 21,
   "id": "bd2e904f-6059-4c0b-838c-1a3aa046b5cf",
   "metadata": {},
   "outputs": [
    {
     "data": {
      "text/plain": [
       "array([[1, 4, 7],\n",
       "       [2, 5, 8],\n",
       "       [3, 6, 9]])"
      ]
     },
     "execution_count": 21,
     "metadata": {},
     "output_type": "execute_result"
    }
   ],
   "source": [
    "# using slicing\n",
    "a2d[::-1,::-1]"
   ]
  },
  {
   "cell_type": "markdown",
   "id": "dd168af5-fb6f-431e-9f0b-c429389832d0",
   "metadata": {},
   "source": [
    "### 4. How can you determine the data type of elements in a NumPy array? Discuss the importance of data types in memory management and performance"
   ]
  },
  {
   "cell_type": "code",
   "execution_count": 25,
   "id": "4c7e41c4-e943-470a-8382-34655a4bd1f8",
   "metadata": {},
   "outputs": [
    {
     "data": {
      "text/plain": [
       "dtype('int64')"
      ]
     },
     "execution_count": 25,
     "metadata": {},
     "output_type": "execute_result"
    }
   ],
   "source": [
    "# Determining data type\n",
    "a2d.dtype"
   ]
  },
  {
   "cell_type": "markdown",
   "id": "4e4ebdde-7f9b-462b-a7c1-9db2d5e72849",
   "metadata": {},
   "source": [
    "Importance of Data Types in Memory Management and Performance\n",
    "\n",
    "1) Memory Efficiency:\n",
    "\n",
    "- Fixed Size: NumPy arrays have a fixed data type for all elements, which ensures that each element takes up a consistent amount of memory. \n",
    "\n",
    "- Optimized Storage: Choosing the right data type (dtype) allows you to optimize memory usage. For instance, using int8 (8-bit integer) instead of int64 (64-bit integer) can significantly reduce memory consumption when working with large datasets.\n",
    "\n",
    "2) Data Integrity and Precision:\n",
    "\n",
    "- Ensuring Precision: Using the correct data type ensures that calculations are performed with the appropriate level of precision. For example, using float32 versus float64 can affect the precision of floating-point operations.\n",
    "\n",
    "- Avoiding Overflows: Selecting a data type with sufficient range (e.g., int32 vs. int8) prevents overflows in calculations, which could otherwise lead to incorrect results.\n",
    "\n",
    "3) Performance: \n",
    "\n",
    "- Fast Computation\n",
    "\n",
    "- Avoiding Type Checking Overhead"
   ]
  },
  {
   "cell_type": "markdown",
   "id": "c0ea827a-f66d-43d9-bad4-bb7660825b42",
   "metadata": {},
   "source": [
    "### 5. Define ndarrays in NumPy and explain their key features. How do they differ from standard Python lists?\n"
   ]
  },
  {
   "cell_type": "markdown",
   "id": "09e1a6d7-2069-4d81-ba10-75dcda6a3249",
   "metadata": {},
   "source": [
    "ndarray: is the primary data structure for storing and manipulating homogeneous data in multiple dimensions. It's essentially a grid of values, all of the same data type.\n",
    "\n",
    "Key Features:\n",
    "\n",
    "- Multidemionsional\n",
    "- Homogeneous Data\n",
    "- Efficient Memory Usage\n",
    "- Element- wise Operations\n",
    "- Vectorized Operations\n",
    "- Braodcasting\n",
    "- Built-in Functions and Methods\n",
    "- Memory Views and Slicing\n",
    "- Interoperability"
   ]
  },
  {
   "cell_type": "markdown",
   "id": "7aa84963-a8e4-48ed-b477-08e21826777c",
   "metadata": {},
   "source": [
    "Python List:\n",
    "    \n",
    "1) Heterogeneous data type\n",
    "2) Less memory-efficient; elements are stored as objects, leading to overhead\n",
    "3) Slower for numerical operations due to interpreted nature and lack of vectorization\n",
    "4) Primarily one-dimensional; nested lists are required for higher dimensions\n",
    "5) Requires explicit loops or list comprehensions for element-wise operations\n",
    "6) No built-in support for broadcasting\n",
    "7) Limited built-in functions; relies on external libraries\n",
    "8) Basic slicing; no memory views, so slicing creates new lists\n",
    "9) Dynamic size; elements can be added or removed"
   ]
  },
  {
   "cell_type": "markdown",
   "id": "02b04527-b72b-4ca3-bdae-ba2fd70506e0",
   "metadata": {},
   "source": [
    "NumPy ndarray:\n",
    "    \n",
    "1) Homogeneous data type\n",
    "2) More memory-efficient due to contiguous memory allocation\n",
    "3) Faster for numerical operations due to optimized C-based implementation and vectorization\n",
    "4) Can be multi-dimensional (1D, 2D, 3D, etc.)\n",
    "5) Supports direct element-wise operations without explicit loops\n",
    "6) Supports broadcasting for operations between arrays of different shapes\n",
    "7) Extensive set of built-in mathematical and statistical functions\n",
    "8) Advanced, with support for multi-dimensional slicing and views\n",
    "9) Fixed size; once created, cannot be dynamically resized"
   ]
  },
  {
   "cell_type": "markdown",
   "id": "c7d150ce-e1c4-4c31-bffb-e9b248481935",
   "metadata": {},
   "source": [
    "### 6. Analyze the performance benefits of NumPy arrays over Python lists for large-scale numerical operations.\n"
   ]
  },
  {
   "cell_type": "markdown",
   "id": "7a6cbb02-f946-449c-bd49-0ffbb84a89f2",
   "metadata": {},
   "source": [
    "NumPy arrays offer significant performance benefits over Python lists, particularly for large-scale numerical operations. These benefits include:\n",
    "\n",
    "- Efficient memory usage due to contiguous storage and homogeneous data types.\n",
    "\n",
    "- Faster computations through vectorization and compiled C code\n",
    ".\n",
    "- Advanced features like broadcasting and efficient slicing, which simplify operations and enhance performance.\n",
    "\n",
    "In contrast, Python lists are less efficient for numerical tasks due to their heterogeneous nature, slower execution speed, and lack of support for advanced numerical operations."
   ]
  },
  {
   "cell_type": "markdown",
   "id": "e0d9d8e8-efde-421c-99eb-410c9ab92300",
   "metadata": {},
   "source": [
    "### 7. Compare vstack() and hstack() functions in NumPy. Provide examples demonstrating their usage and output."
   ]
  },
  {
   "cell_type": "markdown",
   "id": "0ad7eb73-4775-45b5-bc30-4e1374812fc5",
   "metadata": {},
   "source": [
    "np.vstack():\n",
    "    \n",
    "1) Stacks arrays vertically (along rows)\n",
    "2) axis = 0\n",
    "3) The number of columns (second dimension) must be the same\n",
    "4) Useful for combining arrays into a larger array along the row axis\n",
    "\n",
    "np.hstack():\n",
    "\n",
    "1) Stacks arrays horizontally (along columns)\n",
    "2) axis = 1\n",
    "3) The number of rows (first dimension) must be the same\n",
    "4) Useful for combining arrays into a larger array along the column axis"
   ]
  },
  {
   "cell_type": "code",
   "execution_count": 1,
   "id": "553980db-3520-4e25-9626-97e954212b62",
   "metadata": {},
   "outputs": [],
   "source": [
    "import numpy as np"
   ]
  },
  {
   "cell_type": "code",
   "execution_count": 2,
   "id": "ef6895de-426e-40e6-92f2-e11ef3e96798",
   "metadata": {},
   "outputs": [
    {
     "name": "stdout",
     "output_type": "stream",
     "text": [
      "[[ 1  2  3]\n",
      " [ 4  5  6]\n",
      " [ 7  8  9]\n",
      " [10 11 12]]\n"
     ]
    }
   ],
   "source": [
    "arr1 = np.array([[1, 2, 3],\n",
    "                 [4, 5, 6]])\n",
    "\n",
    "arr2 = np.array([[7, 8, 9],\n",
    "                 [10, 11, 12]])\n",
    "res = np.vstack((arr1, arr2)) # stack arrays vertically\n",
    "print(res)"
   ]
  },
  {
   "cell_type": "code",
   "execution_count": 6,
   "id": "522985f9-93cf-4692-b2e2-fedf5dd02227",
   "metadata": {},
   "outputs": [
    {
     "name": "stdout",
     "output_type": "stream",
     "text": [
      "[[ 1  2  3  7  8  9]\n",
      " [ 4  5  6 10 11 12]]\n"
     ]
    }
   ],
   "source": [
    "arr1 = np.array([[1, 2, 3],\n",
    "                 [4, 5, 6]])\n",
    "\n",
    "arr2 = np.array([[7, 8, 9],\n",
    "                 [10, 11, 12]])\n",
    "res = np.hstack((arr1, arr2)) # stack arrays horizontally\n",
    "print(res)"
   ]
  },
  {
   "cell_type": "markdown",
   "id": "bc4dc9cc-b09c-478f-8cfd-c374d4bf8b7a",
   "metadata": {},
   "source": [
    "### 8. Explain the differences between fliplr() and flipud() methods in NumPy, including their effects on various array dimensions."
   ]
  },
  {
   "cell_type": "markdown",
   "id": "1b93842d-a1b3-4166-b43a-51f209abdba1",
   "metadata": {},
   "source": [
    "fliplr():\n",
    "\n",
    "- Reverses the order of elements along the horizontal axis (left-right).\n",
    "- axis = 1\n",
    "- Useful for flipping the columns of a 2D array\n",
    "\n",
    "flipud():\n",
    "\n",
    "- Reverses the order of elements along the vertical axis (up-down).\t\n",
    "- axis=0\t\n",
    "- Useful for flipping the rows of a 2D array."
   ]
  },
  {
   "cell_type": "code",
   "execution_count": 7,
   "id": "8da7d3e7-e5f7-46e4-a614-98acffd4061f",
   "metadata": {},
   "outputs": [
    {
     "name": "stdout",
     "output_type": "stream",
     "text": [
      "[[ 9  8  7]\n",
      " [12 11 10]]\n"
     ]
    }
   ],
   "source": [
    "# fliplr()\n",
    "\n",
    "arr = np.array([[7, 8, 9],\n",
    "                 [10, 11, 12]])\n",
    "res = np.fliplr(arr)\n",
    "print(res)"
   ]
  },
  {
   "cell_type": "code",
   "execution_count": 8,
   "id": "b17d1b9d-691c-43ff-b0f6-2bafc4b92665",
   "metadata": {},
   "outputs": [
    {
     "name": "stdout",
     "output_type": "stream",
     "text": [
      "[[10 11 12]\n",
      " [ 7  8  9]]\n"
     ]
    }
   ],
   "source": [
    "# flipud()\n",
    "\n",
    "arr = np.array([[7, 8, 9],\n",
    "                 [10, 11, 12]])\n",
    "res = np.flipud(arr)\n",
    "print(res)"
   ]
  },
  {
   "cell_type": "markdown",
   "id": "f47baa93-ed78-40ea-8683-3bf209ac5780",
   "metadata": {},
   "source": [
    "### 9. Discuss the functionality of the array_split() method in NumPy. How does it handle uneven splits?\n"
   ]
  },
  {
   "cell_type": "markdown",
   "id": "8a34360d-638c-4348-8ddd-e1db07b28466",
   "metadata": {},
   "source": [
    "Functionality of array_split()\n",
    "\n",
    "Purpose: To divide an array into multiple sub-arrays along a specified axis. Unlike split(), which requires that the array be evenly divisible, array_split() can handle uneven splits.\n",
    "\n",
    "Parameters:\n",
    "\n",
    "- ary: The input array to be split.\n",
    "- indices_or_sections: Defines how to split the array. This can be:\n",
    "\n",
    "An integer N, which specifies the number of equal parts to split the array into.\n",
    "\n",
    "A 1D array of sorted indices, which specifies where to split the array.\n",
    "- axis: The axis along which to split the array (default is 0)"
   ]
  },
  {
   "cell_type": "code",
   "execution_count": 12,
   "id": "3bdf1343-4029-4daa-b225-47293785f1f9",
   "metadata": {},
   "outputs": [
    {
     "name": "stdout",
     "output_type": "stream",
     "text": [
      "[1 2 3]\n",
      "[4 5 6]\n",
      "[7 8 9]\n"
     ]
    }
   ],
   "source": [
    "arr = np.array([1, 2, 3, 4, 5, 6, 7, 8, 9])\n",
    "result = np.array_split(arr, 3) # Split into 3 parts\n",
    "for sub_array in result:\n",
    "    print(sub_array)"
   ]
  },
  {
   "cell_type": "code",
   "execution_count": 11,
   "id": "26694db5-792f-4836-bbd9-54bf59acb20e",
   "metadata": {},
   "outputs": [
    {
     "name": "stdout",
     "output_type": "stream",
     "text": [
      "[[1 2 3]\n",
      " [4 5 6]]\n",
      "[[ 7  8  9]\n",
      " [10 11 12]]\n"
     ]
    }
   ],
   "source": [
    "arr2D = np.array([[1, 2, 3],\n",
    "                  [4, 5, 6],\n",
    "                  [7, 8, 9],\n",
    "                  [10, 11, 12]])\n",
    "\n",
    "result2D = np.array_split(arr2D, 2, axis=0) # Split into 2 section along axis 0\n",
    "for sub_array in result2D:\n",
    "    print(sub_array)"
   ]
  },
  {
   "cell_type": "code",
   "execution_count": 13,
   "id": "7dccb009-1bbf-4fa6-acf4-398b6ae92572",
   "metadata": {},
   "outputs": [
    {
     "name": "stdout",
     "output_type": "stream",
     "text": [
      "[1 2 3]\n",
      "[4 5]\n",
      "[6 7]\n",
      "[8 9]\n"
     ]
    }
   ],
   "source": [
    "# Handling Uneven Splits\n",
    "\n",
    "arr = np.array([1, 2, 3, 4, 5, 6, 7, 8, 9])\n",
    "result = np.array_split(arr, 4) # Split into 4 parts\n",
    "for sub_array in result:\n",
    "    print(sub_array)"
   ]
  },
  {
   "cell_type": "markdown",
   "id": "cbe6037c-94b4-452a-b65c-b1aa7190abff",
   "metadata": {},
   "source": [
    "### 10. Explain the concepts of vectorization and broadcasting in NumPy. How do they contribute to efficient array operations?"
   ]
  },
  {
   "cell_type": "markdown",
   "id": "1131ac1b-bd92-4911-b8cb-a71cda1489f3",
   "metadata": {},
   "source": [
    "Vectorization refers to the process of performing operations on entire arrays (or large chunks of data) at once, rather than using loops to process individual elements."
   ]
  },
  {
   "cell_type": "code",
   "execution_count": 3,
   "id": "3ee1ed77-25a8-4132-a37a-6e3db2b0930b",
   "metadata": {},
   "outputs": [
    {
     "data": {
      "text/plain": [
       "array([5, 7, 9])"
      ]
     },
     "execution_count": 3,
     "metadata": {},
     "output_type": "execute_result"
    }
   ],
   "source": [
    "import numpy as np\n",
    "\n",
    "a = np.array([1, 2, 3])\n",
    "b = np.array([4, 5, 6])\n",
    "\n",
    "# Vectorized addition\n",
    "c = a + b  \n",
    "c"
   ]
  },
  {
   "cell_type": "markdown",
   "id": "406f63c4-f865-4049-a066-49ffd1cc3d98",
   "metadata": {},
   "source": [
    "Broadcasting is a mechanism that allows NumPy to perform operations on arrays of different shapes. When performing operations on arrays that don't have the same shape, NumPy automatically \"broadcasts\" the smaller array across the larger one so that they have compatible shapes."
   ]
  },
  {
   "cell_type": "code",
   "execution_count": 5,
   "id": "f1dbed07-eec8-43fc-9e7c-6c619d4e43fe",
   "metadata": {},
   "outputs": [
    {
     "data": {
      "text/plain": [
       "array([[11, 22, 33],\n",
       "       [14, 25, 36]])"
      ]
     },
     "execution_count": 5,
     "metadata": {},
     "output_type": "execute_result"
    }
   ],
   "source": [
    "import numpy as np\n",
    "\n",
    "a = np.array([[1, 2, 3], [4, 5, 6]])\n",
    "b = np.array([10, 20, 30])\n",
    "\n",
    "c = a + b\n",
    "c"
   ]
  },
  {
   "cell_type": "markdown",
   "id": "1bb8ee9b-3ad2-4f5d-9e97-136948da3608",
   "metadata": {},
   "source": [
    "Efficiency of Vectorization and Broadcasting: \n",
    "\n",
    "- Memory Efficiency: Vectorization minimizes the overhead of Python loops, while broadcasting avoids creating unnecessarily large temporary arrays.\n",
    "\n",
    "- Speed: Both techniques allow for better utilization of CPU cache and vectorized instruction sets, leading to faster execution.\n",
    "\n",
    "- Less Code: These techniques often result in shorter and more intuitive code, making it easier to write and maintain."
   ]
  },
  {
   "cell_type": "markdown",
   "id": "d1938b55-4e18-4c62-98fa-aff78fcaf56b",
   "metadata": {},
   "source": [
    "## Practical Questions"
   ]
  },
  {
   "cell_type": "markdown",
   "id": "c8bb6742-ea36-4f64-a75b-3095658a1cc8",
   "metadata": {},
   "source": [
    "## 1. Create a 3x3 NumPy array with random integers between 1 and 100. Then, interchange its rows and columns.\n"
   ]
  },
  {
   "cell_type": "code",
   "execution_count": 14,
   "id": "75d80561-e1ff-4bd7-a442-5a3a67a0ff6b",
   "metadata": {},
   "outputs": [],
   "source": [
    "a = np.random.randint(1,101,size = (3,3))\n",
    "trans_a = a.T"
   ]
  },
  {
   "cell_type": "code",
   "execution_count": 15,
   "id": "a315ce42-5b2d-435c-8c90-495afc21d8eb",
   "metadata": {},
   "outputs": [
    {
     "data": {
      "text/plain": [
       "array([[77, 60, 88],\n",
       "       [36,  5,  4],\n",
       "       [47, 37, 64]])"
      ]
     },
     "execution_count": 15,
     "metadata": {},
     "output_type": "execute_result"
    }
   ],
   "source": [
    "a"
   ]
  },
  {
   "cell_type": "code",
   "execution_count": 17,
   "id": "1f6b6e95-7297-4a37-9de3-dbc9d88fd59a",
   "metadata": {},
   "outputs": [
    {
     "data": {
      "text/plain": [
       "array([[77, 36, 47],\n",
       "       [60,  5, 37],\n",
       "       [88,  4, 64]])"
      ]
     },
     "execution_count": 17,
     "metadata": {},
     "output_type": "execute_result"
    }
   ],
   "source": [
    "trans_a # interchanged rows and columns"
   ]
  },
  {
   "cell_type": "markdown",
   "id": "35ae020a-b9e3-47df-8e3f-956f87950524",
   "metadata": {},
   "source": [
    "## 2. Generate a 1D NumPy array with 10 elements. Reshape it into a 2x5 array, then into a 5x2 array.\n"
   ]
  },
  {
   "cell_type": "code",
   "execution_count": 20,
   "id": "7fc8466c-25a0-48d9-9a3a-5343024ddbc1",
   "metadata": {},
   "outputs": [],
   "source": [
    "a = np.arange(10)\n",
    "a25 = a.reshape(2,5)\n",
    "a52 = a25.reshape(5,2)"
   ]
  },
  {
   "cell_type": "code",
   "execution_count": 21,
   "id": "a7e6f9ad-eb31-434e-9a79-683a69becbc5",
   "metadata": {},
   "outputs": [
    {
     "data": {
      "text/plain": [
       "array([[0, 1, 2, 3, 4],\n",
       "       [5, 6, 7, 8, 9]])"
      ]
     },
     "execution_count": 21,
     "metadata": {},
     "output_type": "execute_result"
    }
   ],
   "source": [
    "a25"
   ]
  },
  {
   "cell_type": "code",
   "execution_count": 22,
   "id": "c773d8b7-5aee-4fbf-b753-9b96e5653134",
   "metadata": {},
   "outputs": [
    {
     "data": {
      "text/plain": [
       "array([[0, 1],\n",
       "       [2, 3],\n",
       "       [4, 5],\n",
       "       [6, 7],\n",
       "       [8, 9]])"
      ]
     },
     "execution_count": 22,
     "metadata": {},
     "output_type": "execute_result"
    }
   ],
   "source": [
    "a52"
   ]
  },
  {
   "cell_type": "markdown",
   "id": "30d153b3-bb6d-463e-8d2d-67e949b89811",
   "metadata": {},
   "source": [
    "### 3. Create a 4x4 NumPy array with random float values. Add a border of zeros around it, resulting in a 6x6 array.\n"
   ]
  },
  {
   "cell_type": "code",
   "execution_count": 25,
   "id": "161a13e1-5edc-40c8-ac64-fe2b01531208",
   "metadata": {},
   "outputs": [
    {
     "data": {
      "text/plain": [
       "array([[0.        , 0.        , 0.        , 0.        , 0.        ,\n",
       "        0.        ],\n",
       "       [0.        , 0.68367841, 0.09355227, 0.26710421, 0.92840138,\n",
       "        0.        ],\n",
       "       [0.        , 0.24830143, 0.76209981, 0.38764299, 0.04969862,\n",
       "        0.        ],\n",
       "       [0.        , 0.36780692, 0.3863775 , 0.80094147, 0.40129781,\n",
       "        0.        ],\n",
       "       [0.        , 0.16402754, 0.58759995, 0.18934137, 0.4081832 ,\n",
       "        0.        ],\n",
       "       [0.        , 0.        , 0.        , 0.        , 0.        ,\n",
       "        0.        ]])"
      ]
     },
     "execution_count": 25,
     "metadata": {},
     "output_type": "execute_result"
    }
   ],
   "source": [
    "a = np.random.rand(4,4)\n",
    "a6 = np.pad(a,pad_width = 1 , mode = 'constant' , constant_values = 0)\n",
    "a6"
   ]
  },
  {
   "cell_type": "markdown",
   "id": "ebac52f0-049c-448c-99b8-e008570b009a",
   "metadata": {},
   "source": [
    "### 4. Using NumPy, create an array of integers from 10 to 60 with a step of 5.\n"
   ]
  },
  {
   "cell_type": "code",
   "execution_count": 27,
   "id": "99c6ee49-f013-422c-9796-5a789b1f22a3",
   "metadata": {},
   "outputs": [
    {
     "data": {
      "text/plain": [
       "array([10, 15, 20, 25, 30, 35, 40, 45, 50, 55, 60])"
      ]
     },
     "execution_count": 27,
     "metadata": {},
     "output_type": "execute_result"
    }
   ],
   "source": [
    "a = np.arange(10,61,5)\n",
    "a"
   ]
  },
  {
   "cell_type": "markdown",
   "id": "2f1348ef-72a4-41b7-a357-3b3fd6c5ac15",
   "metadata": {},
   "source": [
    "### 5. Create a NumPy array of strings ['python', 'numpy', 'pandas']. Apply different case transformations (uppercase, lowercase, title case, etc.) to each element"
   ]
  },
  {
   "cell_type": "code",
   "execution_count": 36,
   "id": "e665a5f6-ef7d-4cc4-950f-dcf1583a7436",
   "metadata": {},
   "outputs": [
    {
     "data": {
      "text/plain": [
       "(array(['PYTHON', 'NUMPY', 'PANDAS'], dtype='<U6'),\n",
       " array(['python', 'numpy', 'pandas'], dtype='<U6'),\n",
       " array(['Python', 'Numpy', 'Pandas'], dtype='<U6'),\n",
       " array(['Python', 'Numpy', 'Pandas'], dtype='<U6'))"
      ]
     },
     "execution_count": 36,
     "metadata": {},
     "output_type": "execute_result"
    }
   ],
   "source": [
    "a = np.array(['python', 'numpy', 'pandas'])\n",
    "ua = np.char.upper(a)\n",
    "la = np.char.lower(a)\n",
    "ta = np.char.title(a)\n",
    "ca = np.char.capitalize(a)\n",
    "\n",
    "ua,la,ta,ca"
   ]
  },
  {
   "cell_type": "markdown",
   "id": "5a83097f-912e-46cb-b411-4e0f4b4f9f44",
   "metadata": {},
   "source": [
    "### 6. Generate a NumPy array of words. Insert a space between each character of every word in the array.\n"
   ]
  },
  {
   "cell_type": "code",
   "execution_count": 40,
   "id": "39895ec6-0064-42dc-b1ae-7ded7b062f89",
   "metadata": {},
   "outputs": [
    {
     "data": {
      "text/plain": [
       "array(['p y t h o n', 'n u m p y', 'p a n d a s'], dtype='<U11')"
      ]
     },
     "execution_count": 40,
     "metadata": {},
     "output_type": "execute_result"
    }
   ],
   "source": [
    "w = np.array(['python','numpy','pandas'])\n",
    "sw = np.char.join(' ',w)\n",
    "sw"
   ]
  },
  {
   "cell_type": "markdown",
   "id": "64182442-b651-46fe-a1a6-bdfdc2ba5f81",
   "metadata": {},
   "source": [
    "### 7. Create two 2D NumPy arrays and perform element-wise addition, subtraction, multiplication, and division.\n"
   ]
  },
  {
   "cell_type": "code",
   "execution_count": 49,
   "id": "9530d9b2-1e69-4629-8d04-817e6c6c1ab7",
   "metadata": {},
   "outputs": [
    {
     "data": {
      "text/plain": [
       "(array([[ 8,  6],\n",
       "        [15,  9]]),\n",
       " array([[2, 2],\n",
       "        [3, 7]]),\n",
       " array([[15,  8],\n",
       "        [54,  8]]),\n",
       " array([[1.66666667, 2.        ],\n",
       "        [1.5       , 8.        ]]))"
      ]
     },
     "execution_count": 49,
     "metadata": {},
     "output_type": "execute_result"
    }
   ],
   "source": [
    "a1 = np.array([[5,4],[9,8]])\n",
    "a2 = np.array([[3,2],[6,1]])\n",
    "\n",
    "add = np.add(a1,a2)\n",
    "sub = np.subtract(a1,a2)\n",
    "mul = np.multiply(a1,a2)\n",
    "div = np.divide(a1,a2)\n",
    "\n",
    "add,sub,mul,div"
   ]
  },
  {
   "cell_type": "markdown",
   "id": "7fe640dd-eb3c-42fe-bd25-f1742aba1e72",
   "metadata": {},
   "source": [
    "### 8. Use NumPy to create a 5x5 identity matrix, then extract its diagonal elements.\n"
   ]
  },
  {
   "cell_type": "code",
   "execution_count": 53,
   "id": "fc6560ec-c3b8-42ee-80b1-25b209727ca4",
   "metadata": {},
   "outputs": [
    {
     "data": {
      "text/plain": [
       "(array([[1., 0., 0., 0., 0.],\n",
       "        [0., 1., 0., 0., 0.],\n",
       "        [0., 0., 1., 0., 0.],\n",
       "        [0., 0., 0., 1., 0.],\n",
       "        [0., 0., 0., 0., 1.]]),\n",
       " array([1., 1., 1., 1., 1.]))"
      ]
     },
     "execution_count": 53,
     "metadata": {},
     "output_type": "execute_result"
    }
   ],
   "source": [
    "import numpy as np\n",
    "\n",
    "identity_matrix = np.eye(5)\n",
    "diagonal_elements = np.diag(identity_matrix)\n",
    "\n",
    "identity_matrix, diagonal_elements"
   ]
  },
  {
   "cell_type": "markdown",
   "id": "d7c6257b-43f2-45e1-a8b2-6cffb38f4b9d",
   "metadata": {},
   "source": [
    "### 9. Generate a NumPy array of 100 random integers between 0 and 1000. Find and display all prime numbers in this array."
   ]
  },
  {
   "cell_type": "code",
   "execution_count": 55,
   "id": "21cfe84d-b84e-421f-8b80-55e138e43392",
   "metadata": {},
   "outputs": [
    {
     "data": {
      "text/plain": [
       "array([349, 349, 461, 409, 101, 859, 547, 547, 373, 223, 443, 179])"
      ]
     },
     "execution_count": 55,
     "metadata": {},
     "output_type": "execute_result"
    }
   ],
   "source": [
    "def is_prime(n):\n",
    "    if n <= 1:\n",
    "        return False\n",
    "    if n == 2:\n",
    "        return True\n",
    "    if n % 2 == 0:\n",
    "        return False\n",
    "    for i in range(3,int(np.sqrt(n))+1 , 2):\n",
    "        if n % i == 0:\n",
    "            return False\n",
    "    return True\n",
    "\n",
    "ra = np.random.randint(0,1001, size = 100)\n",
    "pn = np.array([num for num in ra if is_prime(num)])\n",
    "\n",
    "pn"
   ]
  },
  {
   "cell_type": "markdown",
   "id": "38007b3c-c7bc-4d68-baef-dceb780494cc",
   "metadata": {},
   "source": [
    "### 10. Create a NumPy array representing daily temperatures for a month. Calculate and display the weekly averages"
   ]
  },
  {
   "cell_type": "code",
   "execution_count": 57,
   "id": "87f14751-32f4-4c15-a061-37c9582cf249",
   "metadata": {},
   "outputs": [
    {
     "data": {
      "text/plain": [
       "array([27.        , 23.42857143, 23.        , 24.28571429])"
      ]
     },
     "execution_count": 57,
     "metadata": {},
     "output_type": "execute_result"
    }
   ],
   "source": [
    "np.random.seed(0)   # For reproducibility\n",
    "daily = np.random.randint(0,54,size = 28)\n",
    "week = daily.reshape(4,7)\n",
    "w_avg = np.mean(week,axis = 1)\n",
    "w_avg"
   ]
  }
 ],
 "metadata": {
  "kernelspec": {
   "display_name": "Python 3 (ipykernel)",
   "language": "python",
   "name": "python3"
  },
  "language_info": {
   "codemirror_mode": {
    "name": "ipython",
    "version": 3
   },
   "file_extension": ".py",
   "mimetype": "text/x-python",
   "name": "python",
   "nbconvert_exporter": "python",
   "pygments_lexer": "ipython3",
   "version": "3.10.8"
  }
 },
 "nbformat": 4,
 "nbformat_minor": 5
}
